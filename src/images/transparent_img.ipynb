{
 "cells": [
  {
   "cell_type": "code",
   "execution_count": 22,
   "metadata": {},
   "outputs": [],
   "source": [
    "from PIL import Image\n",
    "\n",
    "fileNames = ['pacmanRight','pacmanLeft','pacmanDown','pacmanUp']\n",
    "outputImages = 5\n",
    "\n",
    "\n",
    "for fileName in fileNames:\n",
    "    counter=0\n",
    "    img = Image.open(fileName+'.png')\n",
    "    for i in range(255,0,-255//outputImages):\n",
    "        img.putalpha(i)\n",
    "        if(counter>0):\n",
    "            img.save('pacmanTransparent/'+fileName+str(counter)+'.png')\n",
    "        counter+=1\n",
    "\n"
   ]
  }
 ],
 "metadata": {
  "kernelspec": {
   "display_name": "Python 3",
   "language": "python",
   "name": "python3"
  },
  "language_info": {
   "codemirror_mode": {
    "name": "ipython",
    "version": 3
   },
   "file_extension": ".py",
   "mimetype": "text/x-python",
   "name": "python",
   "nbconvert_exporter": "python",
   "pygments_lexer": "ipython3",
   "version": "3.10.6"
  },
  "orig_nbformat": 4,
  "vscode": {
   "interpreter": {
    "hash": "67a3fad4dde250b97e850f0196257ef39badd63729c62eeaa9fed1a9e3b28271"
   }
  }
 },
 "nbformat": 4,
 "nbformat_minor": 2
}
